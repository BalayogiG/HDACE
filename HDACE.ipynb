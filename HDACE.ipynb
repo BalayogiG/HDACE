import cv2
import numpy as np
import matplotlib.pyplot as plt
import time
from math import log2, log10, sqrt

def compute_hessian_eigen_map(img):
    """
    Computes the Hessian eigenvalue map for a grayscale image.
    Each pixel's value is set to the dominant (max absolute) eigenvalue of its local Hessian.
    """
    I_xx = cv2.Sobel(img, cv2.CV_64F, 2, 0, ksize=3)
    I_yy = cv2.Sobel(img, cv2.CV_64F, 0, 2, ksize=3)
    I_xy = cv2.Sobel(img, cv2.CV_64F, 1, 1, ksize=3)

    temp = np.sqrt((I_xx - I_yy) ** 2 + 4 * (I_xy ** 2))

    lambda1 = (I_xx + I_yy + temp) / 2.0
    lambda2 = (I_xx + I_yy - temp) / 2.0

    eigen_map = np.maximum(np.abs(lambda1), np.abs(lambda2))
    return eigen_map

def generate_chaotic_sequence(x0, length, mu=3.99):
    """
    Generates a chaotic sequence using the logistic map.
    """
    seq = np.zeros(length)
    x = x0
    for i in range(length):
        x = mu * x * (1 - x)
        seq[i] = x
    chaotic_seq = np.floor(seq * 256) % 256
    return chaotic_seq.astype(np.uint8)

def encrypt_single_channel(img_gray, secret_key=0.5):
    """
    Encrypts a single grayscale channel.
    """
    eigen_map = compute_hessian_eigen_map(img_gray)

    eigen_map_norm = cv2.normalize(eigen_map, None, alpha=0, beta=1,
                                     norm_type=cv2.NORM_MINMAX, dtype=cv2.CV_64F)

    flat_eigen = eigen_map_norm.flatten()
    perm_indices = np.argsort(flat_eigen)

    flat_img = img_gray.flatten()
    permuted_flat_img = flat_img[perm_indices]

    seed = (np.mean(eigen_map_norm) + secret_key) % 1.0
    if seed == 0:
        seed = 0.1

    chaotic_seq = generate_chaotic_sequence(seed, flat_img.size)

    diffused_flat = np.bitwise_xor(permuted_flat_img, chaotic_seq)

    cipher_img = diffused_flat.reshape(img_gray.shape)

    aux_data = {
        'perm_indices': perm_indices,
        'seed': seed,
        'shape': img_gray.shape
    }
    return cipher_img, aux_data

def decrypt_single_channel(cipher_img, aux_data):
    """
    Decrypts a single grayscale channel.
    """
    perm_indices = aux_data['perm_indices']
    seed = aux_data['seed']
    shape = aux_data['shape']

    flat_cipher = cipher_img.flatten()
    chaotic_seq = generate_chaotic_sequence(seed, flat_cipher.size)

    permuted_flat_img = np.bitwise_xor(flat_cipher, chaotic_seq)

    inv_perm = np.argsort(perm_indices)
    flat_img = permuted_flat_img[inv_perm]

    plain_img = flat_img.reshape(shape)
    return plain_img

def encrypt_image(img, secret_key=0.5):
    """
    Encrypts an image (grayscale or RGB).
    """
    if len(img.shape) == 2:
        cipher_img, aux_data = encrypt_single_channel(img, secret_key)
        return cipher_img, [aux_data]
    elif len(img.shape) == 3:
        channels = cv2.split(img)
        encrypted_channels = []
        aux_data_list = []
        for ch in channels:
            encrypted_ch, aux_data = encrypt_single_channel(ch, secret_key)
            encrypted_channels.append(encrypted_ch)
            aux_data_list.append(aux_data)
        return cv2.merge(encrypted_channels), aux_data_list

def decrypt_image(cipher_img, aux_data_list):
    """
    Decrypts an image (grayscale or RGB).
    """
    if len(cipher_img.shape) == 2:
        return decrypt_single_channel(cipher_img, aux_data_list[0])
    elif len(cipher_img.shape) == 3:
        channels = cv2.split(cipher_img)
        decrypted_channels = []
        for i in range(3):
            decrypted_ch = decrypt_single_channel(channels[i], aux_data_list[i])
            decrypted_channels.append(decrypted_ch)
        return cv2.merge(decrypted_channels)

def plot_histograms(original, encrypted, decrypted):
    """
    Plots the histograms of the original, encrypted, and decrypted images.
    """
    plt.figure(figsize=(18, 5))

    # Histogram for Original Image
    plt.subplot(1, 3, 1)
    plt.hist(original.ravel(), bins=256, range=[0,256], color='blue', alpha=0.7)
    plt.title("Histogram of Original Image")
    plt.xlabel("Pixel Value")
    plt.ylabel("Frequency")

    # Histogram for Encrypted Image
    plt.subplot(1, 3, 2)
    plt.hist(encrypted.ravel(), bins=256, range=[0,256], color='red', alpha=0.7)
    plt.title("Histogram of Encrypted Image")
    plt.xlabel("Pixel Value")
    plt.ylabel("Frequency")

    # Histogram for Decrypted Image
    plt.subplot(1, 3, 3)
    plt.hist(decrypted.ravel(), bins=256, range=[0,256], color='green', alpha=0.7)
    plt.title("Histogram of Decrypted Image")
    plt.xlabel("Pixel Value")
    plt.ylabel("Frequency")

    plt.tight_layout()
    plt.show()


# Example usage
if __name__ == "__main__":
    img = cv2.imread('Lenna.png')
    if img is None:
        print("Error: Image file not found.")
    else:
        secret_key = 0.5
        cipher_img, aux_data_list = encrypt_image(img, secret_key)
        decrypted_img = decrypt_image(cipher_img, aux_data_list)

        # Convert BGR to RGB for proper display
        img_rgb = cv2.cvtColor(img, cv2.COLOR_BGR2RGB)
        dec_img_rgb = cv2.cvtColor(decrypted_img, cv2.COLOR_BGR2RGB)

        # Display the images
        plt.figure(figsize=(15, 5))

        plt.subplot(1, 3, 1)
        plt.imshow(img_rgb)
        plt.title("Original Image")
        plt.axis("off")

        plt.subplot(1, 3, 2)
        plt.imshow(cipher_img, cmap='gray')
        plt.savefig("encrypted_img.png")
        plt.title("Encrypted Image")
        plt.axis("off")

        plt.subplot(1, 3, 3)
        plt.imshow(dec_img_rgb)
        plt.title("Decrypted Image")
        plt.axis("off")

        plt.tight_layout()
        plt.show()

plot_histograms(img, cipher_img, decrypted_img)
